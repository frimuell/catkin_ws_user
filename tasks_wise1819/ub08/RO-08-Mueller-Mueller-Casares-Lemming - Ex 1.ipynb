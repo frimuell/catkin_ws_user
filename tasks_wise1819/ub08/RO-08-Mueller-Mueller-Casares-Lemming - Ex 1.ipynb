{
 "cells": [
  {
   "cell_type": "code",
   "execution_count": 1,
   "metadata": {},
   "outputs": [
    {
     "name": "stdout",
     "output_type": "stream",
     "text": [
      "Unable to register with master node [http://192.168.43.120:11311]: master may not be running yet. Will keep trying.\n"
     ]
    },
    {
     "ename": "ROSInitException",
     "evalue": "Failed to initialize time. Please check logs for additional details",
     "output_type": "error",
     "traceback": [
      "\u001b[0;31m---------------------------------------------------------------------------\u001b[0m",
      "\u001b[0;31mROSInitException\u001b[0m                          Traceback (most recent call last)",
      "\u001b[0;32m<ipython-input-1-a8f6ddf13429>\u001b[0m in \u001b[0;36m<module>\u001b[0;34m()\u001b[0m\n\u001b[1;32m     81\u001b[0m \u001b[0;34m\u001b[0m\u001b[0m\n\u001b[1;32m     82\u001b[0m \u001b[0;32mif\u001b[0m \u001b[0m__name__\u001b[0m \u001b[0;34m==\u001b[0m \u001b[0;34m'__main__'\u001b[0m\u001b[0;34m:\u001b[0m\u001b[0;34m\u001b[0m\u001b[0m\n\u001b[0;32m---> 83\u001b[0;31m     \u001b[0mmain\u001b[0m\u001b[0;34m(\u001b[0m\u001b[0msys\u001b[0m\u001b[0;34m.\u001b[0m\u001b[0margv\u001b[0m\u001b[0;34m)\u001b[0m\u001b[0;34m\u001b[0m\u001b[0m\n\u001b[0m",
      "\u001b[0;32m<ipython-input-1-a8f6ddf13429>\u001b[0m in \u001b[0;36mmain\u001b[0;34m(args)\u001b[0m\n\u001b[1;32m     67\u001b[0m \u001b[0;34m\u001b[0m\u001b[0m\n\u001b[1;32m     68\u001b[0m \u001b[0;32mdef\u001b[0m \u001b[0mmain\u001b[0m\u001b[0;34m(\u001b[0m\u001b[0margs\u001b[0m\u001b[0;34m)\u001b[0m\u001b[0;34m:\u001b[0m\u001b[0;34m\u001b[0m\u001b[0m\n\u001b[0;32m---> 69\u001b[0;31m     \u001b[0mrospy\u001b[0m\u001b[0;34m.\u001b[0m\u001b[0minit_node\u001b[0m\u001b[0;34m(\u001b[0m\u001b[0;34m'pid_velocity'\u001b[0m\u001b[0;34m,\u001b[0m \u001b[0manonymous\u001b[0m\u001b[0;34m=\u001b[0m\u001b[0;32mTrue\u001b[0m\u001b[0;34m)\u001b[0m\u001b[0;34m\u001b[0m\u001b[0m\n\u001b[0m\u001b[1;32m     70\u001b[0m     \u001b[0mpidvel\u001b[0m \u001b[0;34m=\u001b[0m \u001b[0mpid_vel\u001b[0m\u001b[0;34m(\u001b[0m\u001b[0;36m0.3\u001b[0m\u001b[0;34m)\u001b[0m\u001b[0;34m\u001b[0m\u001b[0m\n\u001b[1;32m     71\u001b[0m     \u001b[0mpidvel\u001b[0m\u001b[0;34m.\u001b[0m\u001b[0mpid_controller\u001b[0m\u001b[0;34m(\u001b[0m\u001b[0;34m)\u001b[0m\u001b[0;34m\u001b[0m\u001b[0m\n",
      "\u001b[0;32m/opt/ros/melodic/lib/python2.7/dist-packages/rospy/client.py\u001b[0m in \u001b[0;36minit_node\u001b[0;34m(name, argv, anonymous, log_level, disable_rostime, disable_rosout, disable_signals, xmlrpc_port, tcpros_port)\u001b[0m\n\u001b[1;32m    334\u001b[0m     \u001b[0;32mif\u001b[0m \u001b[0;32mnot\u001b[0m \u001b[0mdisable_rostime\u001b[0m\u001b[0;34m:\u001b[0m\u001b[0;34m\u001b[0m\u001b[0m\n\u001b[1;32m    335\u001b[0m         \u001b[0;32mif\u001b[0m \u001b[0;32mnot\u001b[0m \u001b[0mrospy\u001b[0m\u001b[0;34m.\u001b[0m\u001b[0mimpl\u001b[0m\u001b[0;34m.\u001b[0m\u001b[0msimtime\u001b[0m\u001b[0;34m.\u001b[0m\u001b[0minit_simtime\u001b[0m\u001b[0;34m(\u001b[0m\u001b[0;34m)\u001b[0m\u001b[0;34m:\u001b[0m\u001b[0;34m\u001b[0m\u001b[0m\n\u001b[0;32m--> 336\u001b[0;31m             \u001b[0;32mraise\u001b[0m \u001b[0mrospy\u001b[0m\u001b[0;34m.\u001b[0m\u001b[0mexceptions\u001b[0m\u001b[0;34m.\u001b[0m\u001b[0mROSInitException\u001b[0m\u001b[0;34m(\u001b[0m\u001b[0;34m\"Failed to initialize time. Please check logs for additional details\"\u001b[0m\u001b[0;34m)\u001b[0m\u001b[0;34m\u001b[0m\u001b[0m\n\u001b[0m\u001b[1;32m    337\u001b[0m     \u001b[0;32melse\u001b[0m\u001b[0;34m:\u001b[0m\u001b[0;34m\u001b[0m\u001b[0m\n\u001b[1;32m    338\u001b[0m         \u001b[0mrospy\u001b[0m\u001b[0;34m.\u001b[0m\u001b[0mrostime\u001b[0m\u001b[0;34m.\u001b[0m\u001b[0mset_rostime_initialized\u001b[0m\u001b[0;34m(\u001b[0m\u001b[0;32mTrue\u001b[0m\u001b[0;34m)\u001b[0m\u001b[0;34m\u001b[0m\u001b[0m\n",
      "\u001b[0;31mROSInitException\u001b[0m: Failed to initialize time. Please check logs for additional details"
     ]
    }
   ],
   "source": [
    "#\n",
    "# PID Controller\n",
    "#\n",
    "import rospy\n",
    "import sys\n",
    "\n",
    "import time\n",
    "import numpy as np\n",
    "from std_msgs.msg import Int16, UInt8, Float32\n",
    "import signal\n",
    "import matplotlib.pyplot as plt\n",
    "\n",
    "class pid_vel:\n",
    "    \n",
    "    def __init__(self, meters_per_second):\n",
    "        self.aimed_velocity = meters_per_second # input value \n",
    "        self_aimed_tps = meters_per_second / ((5/9)/100) # 5/9 = 1 tick = 5/9cm\n",
    "        \n",
    "        self.current_velocity = 0 # in Int16 values for topic /manual_control/speed Int16\n",
    "        self.current_tps = 0\n",
    "        \n",
    "        self.ticks = 0 # 1m = ca 180 ticks \n",
    "        \n",
    "\n",
    "        self.time_sum = 0 # runtime in seconds\n",
    "    \n",
    "        self.ticks_sub = rospy.Subscriber(\"/ticks\", UInt8, self.callback_ticks, queue_size=20)\n",
    "        self.speed_pub = rospy.Publisher(\"/manual_control/speed\", Int16, queue_size=20)\n",
    "        \n",
    "        # for plotting\n",
    "        self.time_vals = [0]\n",
    "        self.velo_vals = [0]\n",
    "        \n",
    "    # calculate current speed at each tick \n",
    "    def callback_ticks(self, data):\n",
    "        self.ticks += int(data.data)\n",
    "\n",
    "    # use the counted ticks of the last second to compute velocity and execute PID control\n",
    "    def pid_controller(self):\n",
    "        print(\"test\")\n",
    "                \n",
    "        K_P = 10 # to be adjusted by trial and error\n",
    "        K_I = 0.001 # to be adjusted by trial and error\n",
    "        K_D = 2.5 # to be adjusted by trial and error\n",
    "        \n",
    "        time_sum = 0 # runtime in seconds        \n",
    "        error_sum = 0\n",
    "        \n",
    "        error_prev = self.aimed_tps - self.current_tps\n",
    "        begin_ticks = self.ticks\n",
    "        ticks_prev = beging_tricks\n",
    "        \n",
    "        while True:\n",
    "            ticks = begin_tricks\n",
    "            self.current_tps  = ticks - ticks_prev\n",
    "            \n",
    "            error = self.aimed_tps - self.current_tps\n",
    "            error_sum += error * time_sum\n",
    "            deriv = error - error_prev # discrete derivative (delta t = 1 second)\n",
    "            \n",
    "            speed_increase = K_P * error  + K_I * error_sum + K_D * deriv # P + I + D\n",
    "            self.current_velocity += speed_increase\n",
    "            \n",
    "            self.speed_pub.publish(np.int16(self.current_velocity))\n",
    "            print(self.current_velocity, speed_increase)\n",
    "            \n",
    "            \n",
    "            self.time_vals.append(time_sum)\n",
    "            \n",
    "            error_prev = error\n",
    "            ticks_prev = ticks\n",
    "            time_sum += 1\n",
    "            \n",
    "            # for plotting\n",
    "            self.time_vals.append(time_sum)\n",
    "            self.velo_vals.append(self.current_velocity)\n",
    "            plt.plot(time_vals,velo_vals)\n",
    "            plt.title(\"Velocity over Time, using PID-Control\")\n",
    "            plt.xlabel(\"time\")\n",
    "            plt.ylabel(\"velocity\")\n",
    "            time.sleep(1 - (time.time() % 1)) \n",
    "        \n",
    "def main(args):\n",
    "    rospy.init_node('pid_velocity', anonymous=True)\n",
    "    pidvel = pid_vel(0.3)\n",
    "    pidvel.pid_controller()\n",
    "\n",
    "    def rescue(*_):\n",
    "        print(pid_vel.output)\n",
    "        rospy.signal_shutdown(\"\")\n",
    "\n",
    "    signal.signal(signal.SIGINT, rescue)\n",
    "\n",
    "    rospy.spin()\n",
    "    \n",
    "\n",
    "if __name__ == '__main__':\n",
    "    main(sys.argv)"
   ]
  },
  {
   "cell_type": "code",
   "execution_count": null,
   "metadata": {},
   "outputs": [],
   "source": [
    "time_vals = []\n",
    "time_vals.append(0)"
   ]
  },
  {
   "cell_type": "code",
   "execution_count": 4,
   "metadata": {},
   "outputs": [
    {
     "data": {
      "text/plain": [
       "[0, 1]"
      ]
     },
     "execution_count": 4,
     "metadata": {},
     "output_type": "execute_result"
    }
   ],
   "source": [
    "\n",
    "time_vals = [0]\n",
    "time_vals.append(1)\n",
    "time_vals"
   ]
  },
  {
   "cell_type": "code",
   "execution_count": null,
   "metadata": {},
   "outputs": [],
   "source": []
  }
 ],
 "metadata": {
  "kernelspec": {
   "display_name": "Python 3",
   "language": "python",
   "name": "python3"
  }
 },
 "nbformat": 4,
 "nbformat_minor": 2
}
