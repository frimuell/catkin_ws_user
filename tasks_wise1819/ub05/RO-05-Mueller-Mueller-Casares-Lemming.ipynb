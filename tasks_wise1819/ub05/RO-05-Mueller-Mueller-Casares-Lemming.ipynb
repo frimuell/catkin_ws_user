{
 "cells": [
  {
   "cell_type": "code",
   "execution_count": 7,
   "metadata": {},
   "outputs": [],
   "source": [
    "## Robotics WS 18/19\n",
    "## Assignment 5 Solution\n",
    "## by Pascal Müller, Friedrich Müller, Fabian Casares\n",
    "\n",
    "#####################################################################\n",
    "\n",
    "\n",
    "import numpy as np\n",
    "import matplotlib.pyplot as plt\n",
    "import cv2\n",
    "import math"
   ]
  },
  {
   "cell_type": "code",
   "execution_count": 3,
   "metadata": {},
   "outputs": [
    {
     "data": {
      "image/png": "[encoded data removed]",
      "text/plain": [
       "<Figure size 432x288 with 1 Axes>"
      ]
     },
     "metadata": {
      "needs_background": "light"
     },
     "output_type": "display_data"
    }
   ],
   "source": [
    "#Opening Image and converting it to grayscale\n",
    "img = cv2.imread('lines_u5.jpeg',cv2.IMREAD_COLOR)\n",
    "RGB_img = cv2.cvtColor(img, cv2.COLOR_BGR2RGB)\n",
    "gray= cv2.cvtColor(RGB_img, cv2.COLOR_RGB2GRAY)\n",
    "\n",
    "#Some cropping because the image file is a screenshot. This can be ommited if you pull the image directly from a channel\n",
    "# gray=gray[500:800,70:800]\n",
    "\n",
    "#binarizing image\n",
    "bi_gray_max = 255\n",
    "bi_gray_min = 200\n",
    "ret,thresh=cv2.threshold(gray, bi_gray_min, bi_gray_max, cv2.THRESH_BINARY)\n",
    "\n",
    "#We know pixels can only be 0 or 255 because of binarization\n",
    "whiteDots = np.argwhere(thresh>0)\n",
    "#Also Indices come as (y,x) out of argwhere, but we want (x,y)\n",
    "whiteDots = whiteDots[:,::-1]\n",
    "\n",
    "def printWhiteDots(whiteDots, canvasShape):\n",
    "    canvas=np.zeros(canvasShape)\n",
    "    canvas[whiteDots[:,1],whiteDots[:,0]]=255\n",
    "    plt.imshow(canvas, cmap='gray')\n",
    "    plt.show()\n",
    "\n",
    "printWhiteDots(whiteDots,thresh.shape)"
   ]
  },
  {
   "cell_type": "code",
   "execution_count": 4,
   "metadata": {},
   "outputs": [],
   "source": [
    "#Distance from point (x_0,y_0) to a line by = -ax - c is given by:\n",
    "#https://en.wikipedia.org/wiki/Distance_from_a_point_to_a_line#Line_defined_by_an_equation\n",
    "class LineModel():\n",
    "    \n",
    "    def __init__(self, point1, point2):\n",
    "\n",
    "        #We can now calculate the slope m from the points. From that we get a\n",
    "        self.m = (point1[1]-point2[1])/(point1[0]-point2[0])\n",
    "        self.a = -self.m\n",
    "        \n",
    "        #We can now rearrange the formula to c= -ax -by and insert one of our points to calculate c.\n",
    "        self.c = -self.a*point1[0] -point1[1]\n",
    "        #This b is not the same as in the formula! we ignore the b in the formula becuase it is 1. This b here is the offset of the function\n",
    "        self.b = -self.c\n",
    "        \n",
    "        #Now we prepare the denominator of the formula's fraction for later use (it only depends on constants)\n",
    "        self.denominator = math.sqrt(pow(self.a,2)+1)\n",
    "    \n",
    "    def dist(self, point):\n",
    "        #Here we just apply the formula as found in the link above\n",
    "        return abs(self.a*point[0] + point[1] + self.c)/self.denominator"
   ]
  },
  {
   "cell_type": "code",
   "execution_count": 5,
   "metadata": {},
   "outputs": [],
   "source": [
    "def ransac(whiteDotSet, percentageThreshold, distanceThreshold, iterations=10):  \n",
    "    bestCandidateSet = None\n",
    "    antiSetOfBestSet = None\n",
    "    bestModel = None\n",
    "    #Percentage means percentage of dots inside the distance threshold of a model line\n",
    "    bestPercentage = 0\n",
    "    \n",
    "    for j in range(0,iterations):\n",
    "        twoRands = np.random.randint(0, len(whiteDotSet),2)\n",
    "        #Haven't found a better way to avoid choosing the same point twice\n",
    "        if twoRands[0] == twoRands[1]:\n",
    "            continue\n",
    "        \n",
    "        dotA, dotB = whiteDotSet[twoRands[0]], whiteDotSet[twoRands[1]]\n",
    "        \n",
    "        #A model for a line that goes through dotA and dotB\n",
    "        ln = LineModel(dotA, dotB)\n",
    "        \n",
    "        def closeEnough(dot):\n",
    "            return ln.dist(dot)<distanceThreshold\n",
    "\n",
    "        #Using numpy feature \"Boolean Indexing\"\n",
    "        boolSet = np.apply_along_axis(func1d=closeEnough, axis=1, arr=whiteDotSet)\n",
    "        consensusSet= whiteDotSet[boolSet]\n",
    "\n",
    "        percentageActual=len(consensusSet)/len(whiteDotSet)\n",
    "\n",
    "        if(percentageActual>percentageThreshold and percentageActual>bestPercentage):  \n",
    "            bestCandidateSet = consensusSet\n",
    "            antiSetOfBestSet = whiteDotSet[np.logical_not(boolSet)]\n",
    "            bestModel = ln\n",
    "            bestPercentage = percentageActual\n",
    "    \n",
    "    return bestCandidateSet, antiSetOfBestSet, bestModel"
   ]
  },
  {
   "cell_type": "code",
   "execution_count": 6,
   "metadata": {},
   "outputs": [
    {
     "name": "stdout",
     "output_type": "stream",
     "text": [
      "Line Model: y=1.3548387096774193*x + -435.0645161290322\n"
     ]
    },
    {
     "data": {
      "image/png": "[encoded data removed]",
      "text/plain": [
       "<Figure size 432x288 with 1 Axes>"
      ]
     },
     "metadata": {
      "needs_background": "light"
     },
     "output_type": "display_data"
    },
    {
     "name": "stdout",
     "output_type": "stream",
     "text": [
      "Line Model: y=-1.5*x + 566.0\n"
     ]
    },
    {
     "data": {
      "image/png": "[encoded data removed]",
      "text/plain": [
       "<Figure size 432x288 with 1 Axes>"
      ]
     },
     "metadata": {
      "needs_background": "light"
     },
     "output_type": "display_data"
    }
   ],
   "source": [
    "lineA, notLineA, lineAModel = ransac(whiteDots,percentageThreshold=0.3, distanceThreshold=20)\n",
    "print(\"Line Model: y={}*x + {}\".format(lineAModel.m,lineAModel.b))\n",
    "printWhiteDots(lineA, canvasShape=thresh.shape)\n",
    "lineB, notLineB, lineBModel = ransac(notLineA,percentageThreshold=0.8, distanceThreshold=20)\n",
    "print(\"Line Model: y={}*x + {}\".format(lineBModel.m,lineBModel.b))\n",
    "printWhiteDots(lineB, canvasShape=thresh.shape)"
   ]
  }
 ],
 "metadata": {
  "kernelspec": {
   "display_name": "Python 3",
   "language": "python",
   "name": "python3"
  },
  "language_info": {
   "codemirror_mode": {
    "name": "ipython",
    "version": 3
   },
   "file_extension": ".py",
   "mimetype": "text/x-python",
   "name": "python",
   "nbconvert_exporter": "python",
   "pygments_lexer": "ipython3",
   "version": "3.7.0"
  }
 },
 "nbformat": 4,
 "nbformat_minor": 2
}
