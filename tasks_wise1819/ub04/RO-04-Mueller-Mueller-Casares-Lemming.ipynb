{
 "cells": [
  {
   "cell_type": "code",
   "execution_count": 1,
   "metadata": {},
   "outputs": [],
   "source": [
    "import numpy as np\n",
    "import matplotlib.pyplot as plt\n",
    "import cv2"
   ]
  },
  {
   "cell_type": "code",
   "execution_count": 2,
   "metadata": {},
   "outputs": [],
   "source": [
    "img = cv2.imread('bw.png',cv2.IMREAD_COLOR)\n",
    "RGB_img = cv2.cvtColor(img, cv2.COLOR_BGR2RGB)\n",
    "gray= cv2.cvtColor(RGB_img, cv2.COLOR_RGB2GRAY)"
   ]
  },
  {
   "cell_type": "code",
   "execution_count": 3,
   "metadata": {},
   "outputs": [],
   "source": [
    "#bi_gray\n",
    "bi_gray_max = 255\n",
    "bi_gray_min = 20\n",
    "ret,thresh=cv2.threshold(gray, bi_gray_min, bi_gray_max, cv2.THRESH_BINARY);\n",
    "\n",
    "#Correcting some weird white-side effect\n",
    "thresh[:,-1]=0"
   ]
  },
  {
   "cell_type": "code",
   "execution_count": 4,
   "metadata": {
    "scrolled": true
   },
   "outputs": [
    {
     "data": {
      "image/png": "[encoded data removed]",
      "text/plain": [
       "<Figure size 432x288 with 1 Axes>"
      ]
     },
     "metadata": {
      "needs_background": "light"
     },
     "output_type": "display_data"
    }
   ],
   "source": [
    "plt.imshow(thresh, cmap='gray')\n",
    "plt.show()"
   ]
  },
  {
   "cell_type": "code",
   "execution_count": 5,
   "metadata": {},
   "outputs": [],
   "source": [
    "img_points = np.zeros((6,2,1))\n",
    "\n",
    "# find contours in the binary image\n",
    "im2, contours, hierarchy = cv2.findContours(thresh,cv2.RETR_TREE,cv2.CHAIN_APPROX_SIMPLE)\n",
    "i = 0\n",
    "for index, c in enumerate(contours):\n",
    "    # calculate moments for each contour\n",
    "    M = cv2.moments(c)\n",
    "    if M[\"m00\"] == 0:\n",
    "        continue   \n",
    "    \n",
    "    # calculate x,y coordinate of center\n",
    "    cX = M[\"m10\"] / M[\"m00\"]\n",
    "    cY = M[\"m01\"] / M[\"m00\"]\n",
    "    img_points[i]=np.array([[cX],[cY]])\n",
    "    i = i + 1"
   ]
  },
  {
   "cell_type": "code",
   "execution_count": 6,
   "metadata": {},
   "outputs": [
    {
     "data": {
      "text/plain": [
       "array([[[ 433.63465553],\n",
       "        [ 339.16075157]],\n",
       "\n",
       "       [[  25.69032922],\n",
       "        [ 335.01748971]],\n",
       "\n",
       "       [[ 315.85490196],\n",
       "        [ 159.42745098]],\n",
       "\n",
       "       [[  84.94835681],\n",
       "        [ 159.44131455]],\n",
       "\n",
       "       [[ 267.        ],\n",
       "        [  96.5       ]],\n",
       "\n",
       "       [[ 180.66666667],\n",
       "        [  17.66666667]]])"
      ]
     },
     "execution_count": 6,
     "metadata": {},
     "output_type": "execute_result"
    }
   ],
   "source": [
    "img_points"
   ]
  },
  {
   "cell_type": "code",
   "execution_count": 7,
   "metadata": {},
   "outputs": [
    {
     "name": "stdout",
     "output_type": "stream",
     "text": [
      "Rotation Vector: \n",
      "[[-0.39491542]\n",
      " [ 1.55812789]\n",
      " [ 2.63231691]]\n",
      "\n",
      "Translation Vector: \n",
      "[[  5.53788456]\n",
      " [  6.72758698]\n",
      " [ 37.67713628]]\n",
      "\n"
     ]
    }
   ],
   "source": [
    "fx = 614.1699\n",
    "fy = 614.9002\n",
    "cx = 329.9491\n",
    "cy = 237.2788\n",
    "\n",
    "camera_mat = np.zeros((3,3,1))\n",
    "camera_mat[:,:,0] = np.array([[fx, 0, cx],[0, fy, cy], [0, 0, 1]])\n",
    "\n",
    "k1 = 0.1115\n",
    "k2 = -0.1089\n",
    "p1 = 0\n",
    "p2 = 0\n",
    "\n",
    "dist_coeffs = np.zeros((4,1))\n",
    "dist_coeffs[:,0] = np.array([[k1, k2, p1, p2]])\n",
    "\n",
    "# far to close, left to right (order of discovery) in cm \n",
    "obj_points = np.zeros((6,3,1))\n",
    "obj_points[:,:,0] = np.array([[0.0, 0.0, 0.0],[21.8, 0.0, 0.0], [0.0, 30.0, 0.0], [22.2, 30.0, 0.0], [0.0, 60.0, 0.0], [22.0, 60.0, 0.0]])\n",
    "\n",
    "retval, rvec, tvec = cv2.solvePnP(obj_points, img_points,camera_mat, dist_coeffs)\n",
    "\n",
    "print(\"Rotation Vector: \\n{}\\n\".format(rvec))\n",
    "print(\"Translation Vector: \\n{}\\n\".format(tvec))"
   ]
  },
  {
   "cell_type": "code",
   "execution_count": 8,
   "metadata": {},
   "outputs": [
    {
     "name": "stdout",
     "output_type": "stream",
     "text": [
      "[[-0.96559619 -0.17814543 -0.18944181]\n",
      " [-0.08037901 -0.48835784  0.86893373]\n",
      " [-0.24731197  0.85426625  0.45723732]]\n"
     ]
    }
   ],
   "source": [
    "#Start Aufgabe 6\n",
    "rmat = np.zeros((3,3))\n",
    "cv2.Rodrigues(rvec, rmat, jacobian=0)\n",
    "print(rmat)"
   ]
  },
  {
   "cell_type": "code",
   "execution_count": 11,
   "metadata": {},
   "outputs": [
    {
     "name": "stdout",
     "output_type": "stream",
     "text": [
      "angles: [1.079355880870383, 0.24990505800725415, -3.0585412529850915]\n"
     ]
    }
   ],
   "source": [
    "import math\n",
    "sy = math.sqrt(rmat[0][0] * rmat[0][0] +  rmat[1][0] * rmat[1][0])\n",
    "     \n",
    "singular = sy < 1e-6\n",
    " \n",
    "if  not singular :\n",
    "    x = math.atan2(rmat[2][1] , rmat[2][2])\n",
    "    y = math.atan2(-rmat[2][0], sy)\n",
    "    z = math.atan2(rmat[1][0], rmat[0][0])\n",
    "else :\n",
    "    x = math.atan2(-rmat[1][2], rmat[1][1])\n",
    "    y = math.atan2(-rmat[2][0], sy)\n",
    "    z = 0\n",
    "     \n",
    "print(\"angles: {}\".format([x, y, z]))"
   ]
  }
 ],
 "metadata": {
  "kernelspec": {
   "display_name": "Python 3",
   "language": "python",
   "name": "python3"
  },
  "language_info": {
   "codemirror_mode": {
    "name": "ipython",
    "version": 3
   },
   "file_extension": ".py",
   "mimetype": "text/x-python",
   "name": "python",
   "nbconvert_exporter": "python",
   "pygments_lexer": "ipython3",
   "version": "3.6.3"
  }
 },
 "nbformat": 4,
 "nbformat_minor": 2
}
